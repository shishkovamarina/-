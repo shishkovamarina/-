{
 "cells": [
  {
   "cell_type": "code",
   "execution_count": 3,
   "metadata": {
    "id": "DPImX2JvL4-e"
   },
   "outputs": [],
   "source": [
    "import pandas as pd\n",
    "import numpy as np\n",
    "import sqlite3"
   ]
  },
  {
   "cell_type": "markdown",
   "metadata": {
    "id": "HBCmGuVFL4-k"
   },
   "source": [
    "Таблица **application**:\n",
    "\n",
    "- customer_id - общий ID клиена\n",
    "- APP_ID - ID оффера (предложения о кредите клиенту)\n",
    "- APP_DT - время оффера\n",
    "- FULL_CREDIT_SUM - сумма кредита\n",
    "- PRODUCT - продукт\n",
    "- EDUCATION - образование клиента\n",
    "- SEX - пол\n",
    "- CREDIT_STATUS - статус заявки (оффера)\n",
    "\n",
    "\n",
    "Таблица **customers_email**:\n",
    "\n",
    "- customer_id - общий ID клиена\n",
    "- EMAIL - email клиента \n",
    "- APP_DT - время оффера\n",
    "- SEGMENT - сегмент\n",
    "- date_fact - дата отправки email клиенту\n",
    "- date_open - дата открытия email клиентом\n",
    "- OPENING_COUNT - кол-во открытий email\n",
    "- date_cross - дата перехода по ссылке в email\n",
    "- CROSSING_COUNT - кол-во переходов по ссылке в email\n",
    "- cnt_post - флаг отправки email\n",
    "- cnt_del - флаг доставки email\n",
    "- cnt_open - флаг открытия email\n",
    "- cnt_cross - флаг перехода по ссылке в email"
   ]
  },
  {
   "cell_type": "code",
   "execution_count": 4,
   "metadata": {
    "id": "skyDObKkL4-l"
   },
   "outputs": [],
   "source": [
    "filename = \"C:/Users/User/КУРС НОВЫЙ/data/email/Email\"\n",
    "con = sqlite3.connect(filename + \".db\")\n"
   ]
  },
  {
   "cell_type": "code",
   "execution_count": 5,
   "metadata": {
    "id": "qOUzRXz7L4-m"
   },
   "outputs": [],
   "source": [
    "sql = '''select * from customers_email'''\n",
    "customers_email = pd.read_sql(sql, con)"
   ]
  },
  {
   "cell_type": "code",
   "execution_count": 6,
   "metadata": {
    "id": "BdjwAPVwL4-n"
   },
   "outputs": [
    {
     "data": {
      "text/html": [
       "<div>\n",
       "<style scoped>\n",
       "    .dataframe tbody tr th:only-of-type {\n",
       "        vertical-align: middle;\n",
       "    }\n",
       "\n",
       "    .dataframe tbody tr th {\n",
       "        vertical-align: top;\n",
       "    }\n",
       "\n",
       "    .dataframe thead th {\n",
       "        text-align: right;\n",
       "    }\n",
       "</style>\n",
       "<table border=\"1\" class=\"dataframe\">\n",
       "  <thead>\n",
       "    <tr style=\"text-align: right;\">\n",
       "      <th></th>\n",
       "      <th>CUSTOMER_ID</th>\n",
       "      <th>EMAIL</th>\n",
       "      <th>SEGMENT</th>\n",
       "      <th>date_fact</th>\n",
       "      <th>date_open</th>\n",
       "      <th>OPENING_COUNT</th>\n",
       "      <th>date_cross</th>\n",
       "      <th>CROSSING_COUNT</th>\n",
       "      <th>cnt_post</th>\n",
       "      <th>cnt_del</th>\n",
       "      <th>cnt_open</th>\n",
       "      <th>cnt_cross</th>\n",
       "    </tr>\n",
       "  </thead>\n",
       "  <tbody>\n",
       "    <tr>\n",
       "      <th>0</th>\n",
       "      <td>1</td>\n",
       "      <td>1@mail.ru</td>\n",
       "      <td>no_dbo</td>\n",
       "      <td>2020-03-20 00:00:00.0000000</td>\n",
       "      <td>None</td>\n",
       "      <td>NaN</td>\n",
       "      <td>None</td>\n",
       "      <td>NaN</td>\n",
       "      <td>1</td>\n",
       "      <td>0</td>\n",
       "      <td>0</td>\n",
       "      <td>0</td>\n",
       "    </tr>\n",
       "    <tr>\n",
       "      <th>1</th>\n",
       "      <td>1</td>\n",
       "      <td>1@mail.ru</td>\n",
       "      <td>no_dbo</td>\n",
       "      <td>2020-03-20 00:00:00.0000000</td>\n",
       "      <td>None</td>\n",
       "      <td>NaN</td>\n",
       "      <td>None</td>\n",
       "      <td>NaN</td>\n",
       "      <td>1</td>\n",
       "      <td>0</td>\n",
       "      <td>0</td>\n",
       "      <td>0</td>\n",
       "    </tr>\n",
       "    <tr>\n",
       "      <th>2</th>\n",
       "      <td>2</td>\n",
       "      <td>2@mail.ru</td>\n",
       "      <td>no_dbo</td>\n",
       "      <td>2020-03-20 00:00:00.0000000</td>\n",
       "      <td>2020-03-20 00:00:00.0000000</td>\n",
       "      <td>1.0</td>\n",
       "      <td>None</td>\n",
       "      <td>NaN</td>\n",
       "      <td>1</td>\n",
       "      <td>1</td>\n",
       "      <td>1</td>\n",
       "      <td>0</td>\n",
       "    </tr>\n",
       "    <tr>\n",
       "      <th>3</th>\n",
       "      <td>3</td>\n",
       "      <td>3@mail.ru</td>\n",
       "      <td>no_dbo</td>\n",
       "      <td>2020-03-20 00:00:00.0000000</td>\n",
       "      <td>None</td>\n",
       "      <td>NaN</td>\n",
       "      <td>None</td>\n",
       "      <td>NaN</td>\n",
       "      <td>1</td>\n",
       "      <td>1</td>\n",
       "      <td>0</td>\n",
       "      <td>0</td>\n",
       "    </tr>\n",
       "    <tr>\n",
       "      <th>4</th>\n",
       "      <td>3</td>\n",
       "      <td>3@mail.ru</td>\n",
       "      <td>no_dbo</td>\n",
       "      <td>2020-03-20 00:00:00.0000000</td>\n",
       "      <td>None</td>\n",
       "      <td>NaN</td>\n",
       "      <td>None</td>\n",
       "      <td>NaN</td>\n",
       "      <td>1</td>\n",
       "      <td>1</td>\n",
       "      <td>0</td>\n",
       "      <td>0</td>\n",
       "    </tr>\n",
       "  </tbody>\n",
       "</table>\n",
       "</div>"
      ],
      "text/plain": [
       "   CUSTOMER_ID      EMAIL SEGMENT                    date_fact  \\\n",
       "0            1  1@mail.ru  no_dbo  2020-03-20 00:00:00.0000000   \n",
       "1            1  1@mail.ru  no_dbo  2020-03-20 00:00:00.0000000   \n",
       "2            2  2@mail.ru  no_dbo  2020-03-20 00:00:00.0000000   \n",
       "3            3  3@mail.ru  no_dbo  2020-03-20 00:00:00.0000000   \n",
       "4            3  3@mail.ru  no_dbo  2020-03-20 00:00:00.0000000   \n",
       "\n",
       "                     date_open  OPENING_COUNT date_cross  CROSSING_COUNT  \\\n",
       "0                         None            NaN       None             NaN   \n",
       "1                         None            NaN       None             NaN   \n",
       "2  2020-03-20 00:00:00.0000000            1.0       None             NaN   \n",
       "3                         None            NaN       None             NaN   \n",
       "4                         None            NaN       None             NaN   \n",
       "\n",
       "   cnt_post  cnt_del  cnt_open  cnt_cross  \n",
       "0         1        0         0          0  \n",
       "1         1        0         0          0  \n",
       "2         1        1         1          0  \n",
       "3         1        1         0          0  \n",
       "4         1        1         0          0  "
      ]
     },
     "execution_count": 6,
     "metadata": {},
     "output_type": "execute_result"
    }
   ],
   "source": [
    "customers_email[:5]"
   ]
  },
  {
   "cell_type": "code",
   "execution_count": 7,
   "metadata": {
    "id": "BeJo8Za6L4-o"
   },
   "outputs": [],
   "source": [
    "sql = '''select * from application'''\n",
    "application = pd.read_sql(sql, con)"
   ]
  },
  {
   "cell_type": "code",
   "execution_count": 8,
   "metadata": {
    "id": "GOHsfArbL4-o"
   },
   "outputs": [
    {
     "data": {
      "text/html": [
       "<div>\n",
       "<style scoped>\n",
       "    .dataframe tbody tr th:only-of-type {\n",
       "        vertical-align: middle;\n",
       "    }\n",
       "\n",
       "    .dataframe tbody tr th {\n",
       "        vertical-align: top;\n",
       "    }\n",
       "\n",
       "    .dataframe thead th {\n",
       "        text-align: right;\n",
       "    }\n",
       "</style>\n",
       "<table border=\"1\" class=\"dataframe\">\n",
       "  <thead>\n",
       "    <tr style=\"text-align: right;\">\n",
       "      <th></th>\n",
       "      <th>index</th>\n",
       "      <th>customer_id</th>\n",
       "      <th>APP_ID</th>\n",
       "      <th>APP_DT</th>\n",
       "      <th>FULL_CREDIT_SUM</th>\n",
       "      <th>PRODUCT</th>\n",
       "      <th>EDUCATION</th>\n",
       "      <th>SEX</th>\n",
       "      <th>CREDIT_STATUS</th>\n",
       "    </tr>\n",
       "  </thead>\n",
       "  <tbody>\n",
       "    <tr>\n",
       "      <th>0</th>\n",
       "      <td>0</td>\n",
       "      <td>4149</td>\n",
       "      <td>1</td>\n",
       "      <td>2020-03-17 00:00:00.0000000</td>\n",
       "      <td>999990</td>\n",
       "      <td>T0</td>\n",
       "      <td>Высшее</td>\n",
       "      <td>Женский</td>\n",
       "      <td>Rejected</td>\n",
       "    </tr>\n",
       "    <tr>\n",
       "      <th>1</th>\n",
       "      <td>1</td>\n",
       "      <td>685</td>\n",
       "      <td>2</td>\n",
       "      <td>2020-03-11 00:00:00.0000000</td>\n",
       "      <td>439169,14</td>\n",
       "      <td>5L</td>\n",
       "      <td>Среднее</td>\n",
       "      <td>Мужской</td>\n",
       "      <td>Rejected</td>\n",
       "    </tr>\n",
       "    <tr>\n",
       "      <th>2</th>\n",
       "      <td>2</td>\n",
       "      <td>806</td>\n",
       "      <td>3</td>\n",
       "      <td>2020-03-12 00:00:00.0000000</td>\n",
       "      <td>245000</td>\n",
       "      <td>8F</td>\n",
       "      <td>Среднее специальное</td>\n",
       "      <td>Мужской</td>\n",
       "      <td>Financed</td>\n",
       "    </tr>\n",
       "    <tr>\n",
       "      <th>3</th>\n",
       "      <td>3</td>\n",
       "      <td>2711</td>\n",
       "      <td>4</td>\n",
       "      <td>2020-03-13 00:00:00.0000000</td>\n",
       "      <td>809523,81</td>\n",
       "      <td>3W</td>\n",
       "      <td>Среднее специальное</td>\n",
       "      <td>Мужской</td>\n",
       "      <td>Client refused(approved)</td>\n",
       "    </tr>\n",
       "    <tr>\n",
       "      <th>4</th>\n",
       "      <td>4</td>\n",
       "      <td>4464</td>\n",
       "      <td>5</td>\n",
       "      <td>2020-03-19 00:00:00.0000000</td>\n",
       "      <td>1500000</td>\n",
       "      <td>T0</td>\n",
       "      <td>Высшее</td>\n",
       "      <td>Мужской</td>\n",
       "      <td>Rejected</td>\n",
       "    </tr>\n",
       "  </tbody>\n",
       "</table>\n",
       "</div>"
      ],
      "text/plain": [
       "   index  customer_id  APP_ID                       APP_DT FULL_CREDIT_SUM  \\\n",
       "0      0         4149       1  2020-03-17 00:00:00.0000000          999990   \n",
       "1      1          685       2  2020-03-11 00:00:00.0000000       439169,14   \n",
       "2      2          806       3  2020-03-12 00:00:00.0000000          245000   \n",
       "3      3         2711       4  2020-03-13 00:00:00.0000000       809523,81   \n",
       "4      4         4464       5  2020-03-19 00:00:00.0000000         1500000   \n",
       "\n",
       "  PRODUCT            EDUCATION      SEX             CREDIT_STATUS  \n",
       "0      T0               Высшее  Женский                  Rejected  \n",
       "1      5L              Среднее  Мужской                  Rejected  \n",
       "2      8F  Среднее специальное  Мужской                  Financed  \n",
       "3      3W  Среднее специальное  Мужской  Client refused(approved)  \n",
       "4      T0               Высшее  Мужской                  Rejected  "
      ]
     },
     "execution_count": 8,
     "metadata": {},
     "output_type": "execute_result"
    }
   ],
   "source": [
    "application[:5]"
   ]
  },
  {
   "cell_type": "markdown",
   "metadata": {
    "id": "58Mo1TcuL4-p"
   },
   "source": [
    "1) Создать таблицу customer_unique на основе customers_email и пронумеровать при помощи оконной функции параметр customer_id отсортировав по полю date_fact в порядке убывания даты отправки email"
   ]
  },
  {
   "cell_type": "code",
   "execution_count": 9,
   "metadata": {},
   "outputs": [],
   "source": [
    "cur = con.cursor()"
   ]
  },
  {
   "cell_type": "code",
   "execution_count": 10,
   "metadata": {},
   "outputs": [
    {
     "data": {
      "text/plain": [
       "<sqlite3.Cursor at 0x24662904f80>"
      ]
     },
     "execution_count": 10,
     "metadata": {},
     "output_type": "execute_result"
    }
   ],
   "source": [
    "sql = '''\n",
    "        drop table if exists customer_unique;\n",
    "        create table customer_unique as\n",
    "        select distinct customer_id, date_fact,\n",
    "        ROW_NUMBER() over(PARTITION BY customer_id order by date_fact) as rn\n",
    "        from customers_email\n",
    "        '''\n",
    "cur.executescript(sql)"
   ]
  },
  {
   "cell_type": "markdown",
   "metadata": {
    "id": "BsEeaWMcL4-s"
   },
   "source": [
    "2) Вывести результат первого запроса (задания) при помощи pandas.read_sql"
   ]
  },
  {
   "cell_type": "code",
   "execution_count": 11,
   "metadata": {
    "id": "QcxIzxk8L4-t"
   },
   "outputs": [
    {
     "data": {
      "text/html": [
       "<div>\n",
       "<style scoped>\n",
       "    .dataframe tbody tr th:only-of-type {\n",
       "        vertical-align: middle;\n",
       "    }\n",
       "\n",
       "    .dataframe tbody tr th {\n",
       "        vertical-align: top;\n",
       "    }\n",
       "\n",
       "    .dataframe thead th {\n",
       "        text-align: right;\n",
       "    }\n",
       "</style>\n",
       "<table border=\"1\" class=\"dataframe\">\n",
       "  <thead>\n",
       "    <tr style=\"text-align: right;\">\n",
       "      <th></th>\n",
       "      <th>CUSTOMER_ID</th>\n",
       "      <th>date_fact</th>\n",
       "      <th>rn</th>\n",
       "    </tr>\n",
       "  </thead>\n",
       "  <tbody>\n",
       "    <tr>\n",
       "      <th>0</th>\n",
       "      <td>1</td>\n",
       "      <td>2020-03-20 00:00:00.0000000</td>\n",
       "      <td>1</td>\n",
       "    </tr>\n",
       "    <tr>\n",
       "      <th>1</th>\n",
       "      <td>1</td>\n",
       "      <td>2020-03-20 00:00:00.0000000</td>\n",
       "      <td>2</td>\n",
       "    </tr>\n",
       "    <tr>\n",
       "      <th>2</th>\n",
       "      <td>2</td>\n",
       "      <td>2020-03-20 00:00:00.0000000</td>\n",
       "      <td>1</td>\n",
       "    </tr>\n",
       "    <tr>\n",
       "      <th>3</th>\n",
       "      <td>3</td>\n",
       "      <td>2020-03-20 00:00:00.0000000</td>\n",
       "      <td>1</td>\n",
       "    </tr>\n",
       "    <tr>\n",
       "      <th>4</th>\n",
       "      <td>3</td>\n",
       "      <td>2020-03-20 00:00:00.0000000</td>\n",
       "      <td>2</td>\n",
       "    </tr>\n",
       "  </tbody>\n",
       "</table>\n",
       "</div>"
      ],
      "text/plain": [
       "   CUSTOMER_ID                    date_fact  rn\n",
       "0            1  2020-03-20 00:00:00.0000000   1\n",
       "1            1  2020-03-20 00:00:00.0000000   2\n",
       "2            2  2020-03-20 00:00:00.0000000   1\n",
       "3            3  2020-03-20 00:00:00.0000000   1\n",
       "4            3  2020-03-20 00:00:00.0000000   2"
      ]
     },
     "execution_count": 11,
     "metadata": {},
     "output_type": "execute_result"
    }
   ],
   "source": [
    "sql = '''select * from customer_unique'''\n",
    "customer_unique = pd.read_sql(sql, con)\n",
    "customer_unique[:5]"
   ]
  },
  {
   "cell_type": "markdown",
   "metadata": {
    "id": "88rPF3JUL4-u"
   },
   "source": [
    "3) Аналогично заданию 1, создать таблицу application_unique на основе customers_email и пронумеровать при помощи оконной функции параметр customer_id отсортировав по полю APP_DT"
   ]
  },
  {
   "cell_type": "code",
   "execution_count": 14,
   "metadata": {
    "id": "gbO7WFzUL4-u"
   },
   "outputs": [
    {
     "data": {
      "text/plain": [
       "<sqlite3.Cursor at 0x24662904f80>"
      ]
     },
     "execution_count": 14,
     "metadata": {},
     "output_type": "execute_result"
    }
   ],
   "source": [
    "sql = '''\n",
    "        drop table if exists application_unique;\n",
    "        create table application_unique as\n",
    "        select distinct c.customer_id, date_fact,\n",
    "        ROW_NUMBER() over(PARTITION BY c.customer_id order by a.APP_DT) as rn\n",
    "        from customers_email c\n",
    "        inner join application a on c.customer_id = a.customer_id\n",
    "        '''\n",
    "cur.executescript(sql)"
   ]
  },
  {
   "cell_type": "markdown",
   "metadata": {
    "id": "QdcGziyFL4-v"
   },
   "source": [
    "4) Вывести результат третьего задания при помощи pandas.read_sql"
   ]
  },
  {
   "cell_type": "code",
   "execution_count": 15,
   "metadata": {
    "id": "9LH1FP93L4-v"
   },
   "outputs": [
    {
     "data": {
      "text/html": [
       "<div>\n",
       "<style scoped>\n",
       "    .dataframe tbody tr th:only-of-type {\n",
       "        vertical-align: middle;\n",
       "    }\n",
       "\n",
       "    .dataframe tbody tr th {\n",
       "        vertical-align: top;\n",
       "    }\n",
       "\n",
       "    .dataframe thead th {\n",
       "        text-align: right;\n",
       "    }\n",
       "</style>\n",
       "<table border=\"1\" class=\"dataframe\">\n",
       "  <thead>\n",
       "    <tr style=\"text-align: right;\">\n",
       "      <th></th>\n",
       "      <th>CUSTOMER_ID</th>\n",
       "      <th>date_fact</th>\n",
       "      <th>rn</th>\n",
       "    </tr>\n",
       "  </thead>\n",
       "  <tbody>\n",
       "    <tr>\n",
       "      <th>0</th>\n",
       "      <td>7</td>\n",
       "      <td>2020-03-20 00:00:00.0000000</td>\n",
       "      <td>1</td>\n",
       "    </tr>\n",
       "    <tr>\n",
       "      <th>1</th>\n",
       "      <td>8</td>\n",
       "      <td>2020-03-20 00:00:00.0000000</td>\n",
       "      <td>1</td>\n",
       "    </tr>\n",
       "    <tr>\n",
       "      <th>2</th>\n",
       "      <td>9</td>\n",
       "      <td>2020-03-20 00:00:00.0000000</td>\n",
       "      <td>1</td>\n",
       "    </tr>\n",
       "    <tr>\n",
       "      <th>3</th>\n",
       "      <td>9</td>\n",
       "      <td>2020-03-20 00:00:00.0000000</td>\n",
       "      <td>2</td>\n",
       "    </tr>\n",
       "    <tr>\n",
       "      <th>4</th>\n",
       "      <td>9</td>\n",
       "      <td>2020-03-20 00:00:00.0000000</td>\n",
       "      <td>3</td>\n",
       "    </tr>\n",
       "  </tbody>\n",
       "</table>\n",
       "</div>"
      ],
      "text/plain": [
       "   CUSTOMER_ID                    date_fact  rn\n",
       "0            7  2020-03-20 00:00:00.0000000   1\n",
       "1            8  2020-03-20 00:00:00.0000000   1\n",
       "2            9  2020-03-20 00:00:00.0000000   1\n",
       "3            9  2020-03-20 00:00:00.0000000   2\n",
       "4            9  2020-03-20 00:00:00.0000000   3"
      ]
     },
     "execution_count": 15,
     "metadata": {},
     "output_type": "execute_result"
    }
   ],
   "source": [
    "sql = '''select * from application_unique'''\n",
    "application_unique = pd.read_sql(sql, con)\n",
    "application_unique[:5]"
   ]
  },
  {
   "cell_type": "markdown",
   "metadata": {
    "id": "NDIzoGMyL4-w"
   },
   "source": [
    "5) Написать запрос, который бы находил вторую по счету максимальную сумму кредита из application. Какое будет значение?"
   ]
  },
  {
   "cell_type": "code",
   "execution_count": 159,
   "metadata": {
    "id": "ozSWmMCVL4-x"
   },
   "outputs": [
    {
     "data": {
      "text/html": [
       "<div>\n",
       "<style scoped>\n",
       "    .dataframe tbody tr th:only-of-type {\n",
       "        vertical-align: middle;\n",
       "    }\n",
       "\n",
       "    .dataframe tbody tr th {\n",
       "        vertical-align: top;\n",
       "    }\n",
       "\n",
       "    .dataframe thead th {\n",
       "        text-align: right;\n",
       "    }\n",
       "</style>\n",
       "<table border=\"1\" class=\"dataframe\">\n",
       "  <thead>\n",
       "    <tr style=\"text-align: right;\">\n",
       "      <th></th>\n",
       "      <th>customer_id</th>\n",
       "      <th>cast(FULL_CREDIT_SUM as real)</th>\n",
       "    </tr>\n",
       "  </thead>\n",
       "  <tbody>\n",
       "    <tr>\n",
       "      <th>0</th>\n",
       "      <td>4560</td>\n",
       "      <td>3000000.0</td>\n",
       "    </tr>\n",
       "  </tbody>\n",
       "</table>\n",
       "</div>"
      ],
      "text/plain": [
       "   customer_id  cast(FULL_CREDIT_SUM as real)\n",
       "0         4560                      3000000.0"
      ]
     },
     "execution_count": 159,
     "metadata": {},
     "output_type": "execute_result"
    }
   ],
   "source": [
    "sql = '''\n",
    "        select customer_id, cast(FULL_CREDIT_SUM as real)\n",
    "        from application \n",
    "        order by cast(FULL_CREDIT_SUM as real) desc \n",
    "        limit 1,1\n",
    "        '''\n",
    "application_max = pd.read_sql(sql, con)\n",
    "application_max[:5]"
   ]
  },
  {
   "cell_type": "markdown",
   "metadata": {
    "id": "-6Kkl2U0L4-x"
   },
   "source": [
    "6) Написать запрос, который бы находил уникальных клиентов с суммой запрашиваемого оффера больше, чем среднее значение суммы офера всех клиентов"
   ]
  },
  {
   "cell_type": "code",
   "execution_count": 132,
   "metadata": {},
   "outputs": [
    {
     "data": {
      "text/html": [
       "<div>\n",
       "<style scoped>\n",
       "    .dataframe tbody tr th:only-of-type {\n",
       "        vertical-align: middle;\n",
       "    }\n",
       "\n",
       "    .dataframe tbody tr th {\n",
       "        vertical-align: top;\n",
       "    }\n",
       "\n",
       "    .dataframe thead th {\n",
       "        text-align: right;\n",
       "    }\n",
       "</style>\n",
       "<table border=\"1\" class=\"dataframe\">\n",
       "  <thead>\n",
       "    <tr style=\"text-align: right;\">\n",
       "      <th></th>\n",
       "      <th>customer_id</th>\n",
       "      <th>cast(FULL_CREDIT_SUM as real)</th>\n",
       "    </tr>\n",
       "  </thead>\n",
       "  <tbody>\n",
       "    <tr>\n",
       "      <th>0</th>\n",
       "      <td>33</td>\n",
       "      <td>790000.0</td>\n",
       "    </tr>\n",
       "    <tr>\n",
       "      <th>1</th>\n",
       "      <td>42</td>\n",
       "      <td>557134.0</td>\n",
       "    </tr>\n",
       "    <tr>\n",
       "      <th>2</th>\n",
       "      <td>59</td>\n",
       "      <td>1000000.0</td>\n",
       "    </tr>\n",
       "    <tr>\n",
       "      <th>3</th>\n",
       "      <td>70</td>\n",
       "      <td>593471.0</td>\n",
       "    </tr>\n",
       "    <tr>\n",
       "      <th>4</th>\n",
       "      <td>107</td>\n",
       "      <td>636000.0</td>\n",
       "    </tr>\n",
       "  </tbody>\n",
       "</table>\n",
       "</div>"
      ],
      "text/plain": [
       "   customer_id  cast(FULL_CREDIT_SUM as real)\n",
       "0           33                       790000.0\n",
       "1           42                       557134.0\n",
       "2           59                      1000000.0\n",
       "3           70                       593471.0\n",
       "4          107                       636000.0"
      ]
     },
     "execution_count": 132,
     "metadata": {},
     "output_type": "execute_result"
    }
   ],
   "source": [
    "sql = '''\n",
    "        select customer_id, cast(FULL_CREDIT_SUM as real)\n",
    "        from application \n",
    "        group by customer_id\n",
    "        having cast(FULL_CREDIT_SUM as real)>(select cast(avg(FULL_CREDIT_SUM) as real) from application)\n",
    "        '''\n",
    "        \n",
    "customer = pd.read_sql(sql, con)\n",
    "customer[:5]"
   ]
  },
  {
   "cell_type": "markdown",
   "metadata": {
    "id": "axqQEy7hL4-x"
   },
   "source": [
    "7) Напишите запрос, который выводит максимальную сумму для каждого уникального клиента при статусе отказа оффера credit_status like '%Reject%' (подсказка: использовать application)"
   ]
  },
  {
   "cell_type": "code",
   "execution_count": 227,
   "metadata": {},
   "outputs": [
    {
     "data": {
      "text/html": [
       "<div>\n",
       "<style scoped>\n",
       "    .dataframe tbody tr th:only-of-type {\n",
       "        vertical-align: middle;\n",
       "    }\n",
       "\n",
       "    .dataframe tbody tr th {\n",
       "        vertical-align: top;\n",
       "    }\n",
       "\n",
       "    .dataframe thead th {\n",
       "        text-align: right;\n",
       "    }\n",
       "</style>\n",
       "<table border=\"1\" class=\"dataframe\">\n",
       "  <thead>\n",
       "    <tr style=\"text-align: right;\">\n",
       "      <th></th>\n",
       "      <th>customer_id</th>\n",
       "      <th>FULL_CREDIT_SUM</th>\n",
       "      <th>credit_status</th>\n",
       "    </tr>\n",
       "  </thead>\n",
       "  <tbody>\n",
       "    <tr>\n",
       "      <th>0</th>\n",
       "      <td>8</td>\n",
       "      <td>60000</td>\n",
       "      <td>Rejected</td>\n",
       "    </tr>\n",
       "    <tr>\n",
       "      <th>1</th>\n",
       "      <td>9</td>\n",
       "      <td>228342,19</td>\n",
       "      <td>Rejected</td>\n",
       "    </tr>\n",
       "    <tr>\n",
       "      <th>2</th>\n",
       "      <td>13</td>\n",
       "      <td>568504,83</td>\n",
       "      <td>Rejected</td>\n",
       "    </tr>\n",
       "    <tr>\n",
       "      <th>3</th>\n",
       "      <td>26</td>\n",
       "      <td>12128,56</td>\n",
       "      <td>Rejected</td>\n",
       "    </tr>\n",
       "    <tr>\n",
       "      <th>4</th>\n",
       "      <td>33</td>\n",
       "      <td>800000</td>\n",
       "      <td>Rejected</td>\n",
       "    </tr>\n",
       "  </tbody>\n",
       "</table>\n",
       "</div>"
      ],
      "text/plain": [
       "   customer_id FULL_CREDIT_SUM credit_status\n",
       "0            8           60000      Rejected\n",
       "1            9       228342,19      Rejected\n",
       "2           13       568504,83      Rejected\n",
       "3           26        12128,56      Rejected\n",
       "4           33          800000      Rejected"
      ]
     },
     "execution_count": 227,
     "metadata": {},
     "output_type": "execute_result"
    }
   ],
   "source": [
    "sql = '''\n",
    "        SELECT distinct a.customer_id, a.FULL_CREDIT_SUM, a.credit_status\n",
    "        FROM (SELECT customer_id, FULL_CREDIT_SUM, credit_status,\n",
    "        ROW_NUMBER() OVER (PARTITION BY customer_id ORDER BY FULL_CREDIT_SUM DESC) rank\n",
    "        FROM application) a\n",
    "        WHERE a.rank = 1 and credit_status LIKE '%Reject%'\n",
    "        '''\n",
    "        \n",
    "credit_status = pd.read_sql(sql, con)\n",
    "credit_status[:5]"
   ]
  },
  {
   "cell_type": "markdown",
   "metadata": {
    "id": "FwDZvctUL4-y"
   },
   "source": [
    "8) Вывеси максимальную сумму кредита для каждого клиента в зависимости от статуса оффера (подсказка: group by)"
   ]
  },
  {
   "cell_type": "code",
   "execution_count": 251,
   "metadata": {
    "id": "HKptGB27L4-y"
   },
   "outputs": [
    {
     "data": {
      "text/html": [
       "<div>\n",
       "<style scoped>\n",
       "    .dataframe tbody tr th:only-of-type {\n",
       "        vertical-align: middle;\n",
       "    }\n",
       "\n",
       "    .dataframe tbody tr th {\n",
       "        vertical-align: top;\n",
       "    }\n",
       "\n",
       "    .dataframe thead th {\n",
       "        text-align: right;\n",
       "    }\n",
       "</style>\n",
       "<table border=\"1\" class=\"dataframe\">\n",
       "  <thead>\n",
       "    <tr style=\"text-align: right;\">\n",
       "      <th></th>\n",
       "      <th>customer_id</th>\n",
       "      <th>FULL_CREDIT_SUM</th>\n",
       "      <th>credit_status</th>\n",
       "    </tr>\n",
       "  </thead>\n",
       "  <tbody>\n",
       "    <tr>\n",
       "      <th>0</th>\n",
       "      <td>208</td>\n",
       "      <td>499147,24</td>\n",
       "      <td>Approved</td>\n",
       "    </tr>\n",
       "    <tr>\n",
       "      <th>1</th>\n",
       "      <td>59</td>\n",
       "      <td>1000000</td>\n",
       "      <td>Client refused(approved)</td>\n",
       "    </tr>\n",
       "    <tr>\n",
       "      <th>2</th>\n",
       "      <td>139</td>\n",
       "      <td>600000</td>\n",
       "      <td>Client refused(not finalized)</td>\n",
       "    </tr>\n",
       "    <tr>\n",
       "      <th>3</th>\n",
       "      <td>7</td>\n",
       "      <td>27000</td>\n",
       "      <td>Financed</td>\n",
       "    </tr>\n",
       "    <tr>\n",
       "      <th>4</th>\n",
       "      <td>634</td>\n",
       "      <td>750000</td>\n",
       "      <td>Processing</td>\n",
       "    </tr>\n",
       "    <tr>\n",
       "      <th>5</th>\n",
       "      <td>8</td>\n",
       "      <td>60000</td>\n",
       "      <td>Rejected</td>\n",
       "    </tr>\n",
       "  </tbody>\n",
       "</table>\n",
       "</div>"
      ],
      "text/plain": [
       "   customer_id FULL_CREDIT_SUM                  credit_status\n",
       "0          208       499147,24                       Approved\n",
       "1           59         1000000       Client refused(approved)\n",
       "2          139          600000  Client refused(not finalized)\n",
       "3            7           27000                       Financed\n",
       "4          634          750000                     Processing\n",
       "5            8           60000                       Rejected"
      ]
     },
     "execution_count": 251,
     "metadata": {},
     "output_type": "execute_result"
    }
   ],
   "source": [
    "sql = '''\n",
    "        SELECT a.customer_id, a.FULL_CREDIT_SUM, a.credit_status\n",
    "        FROM (SELECT customer_id, FULL_CREDIT_SUM, credit_status,\n",
    "        ROW_NUMBER() OVER (PARTITION BY customer_id ORDER BY FULL_CREDIT_SUM DESC) rank\n",
    "        FROM application) a\n",
    "        WHERE a.rank = 1\n",
    "        group by a.CREDIT_STATUS\n",
    "        '''\n",
    "        \n",
    "credit_status2 = pd.read_sql(sql, con)\n",
    "credit_status2[:30]"
   ]
  },
  {
   "cell_type": "markdown",
   "metadata": {
    "id": "ZRUtCnggL4-y"
   },
   "source": [
    "9) Вывести из application тех клиентов, чьих офферов в application больше, чем 2"
   ]
  },
  {
   "cell_type": "code",
   "execution_count": 259,
   "metadata": {},
   "outputs": [
    {
     "data": {
      "text/html": [
       "<div>\n",
       "<style scoped>\n",
       "    .dataframe tbody tr th:only-of-type {\n",
       "        vertical-align: middle;\n",
       "    }\n",
       "\n",
       "    .dataframe tbody tr th {\n",
       "        vertical-align: top;\n",
       "    }\n",
       "\n",
       "    .dataframe thead th {\n",
       "        text-align: right;\n",
       "    }\n",
       "</style>\n",
       "<table border=\"1\" class=\"dataframe\">\n",
       "  <thead>\n",
       "    <tr style=\"text-align: right;\">\n",
       "      <th></th>\n",
       "      <th>customer_id</th>\n",
       "    </tr>\n",
       "  </thead>\n",
       "  <tbody>\n",
       "    <tr>\n",
       "      <th>0</th>\n",
       "      <td>9</td>\n",
       "    </tr>\n",
       "    <tr>\n",
       "      <th>1</th>\n",
       "      <td>13</td>\n",
       "    </tr>\n",
       "    <tr>\n",
       "      <th>2</th>\n",
       "      <td>33</td>\n",
       "    </tr>\n",
       "    <tr>\n",
       "      <th>3</th>\n",
       "      <td>42</td>\n",
       "    </tr>\n",
       "    <tr>\n",
       "      <th>4</th>\n",
       "      <td>49</td>\n",
       "    </tr>\n",
       "  </tbody>\n",
       "</table>\n",
       "</div>"
      ],
      "text/plain": [
       "   customer_id\n",
       "0            9\n",
       "1           13\n",
       "2           33\n",
       "3           42\n",
       "4           49"
      ]
     },
     "execution_count": 259,
     "metadata": {},
     "output_type": "execute_result"
    }
   ],
   "source": [
    "sql = '''\n",
    "SELECT customer_id\n",
    "   FROM application\n",
    "   group by customer_id\n",
    "   HAVING COUNT(APP_ID) > 2'''\n",
    "customer2 = pd.read_sql(sql, con)\n",
    "customer2[:5]"
   ]
  },
  {
   "cell_type": "code",
   "execution_count": null,
   "metadata": {},
   "outputs": [],
   "source": []
  }
 ],
 "metadata": {
  "colab": {
   "name": "2. SQL HW2.ipynb",
   "provenance": []
  },
  "hide_input": false,
  "kernelspec": {
   "display_name": "Python 3",
   "language": "python",
   "name": "python3"
  },
  "language_info": {
   "codemirror_mode": {
    "name": "ipython",
    "version": 3
   },
   "file_extension": ".py",
   "mimetype": "text/x-python",
   "name": "python",
   "nbconvert_exporter": "python",
   "pygments_lexer": "ipython3",
   "version": "3.8.5"
  },
  "toc": {
   "base_numbering": 1,
   "nav_menu": {},
   "number_sections": true,
   "sideBar": true,
   "skip_h1_title": false,
   "title_cell": "Table of Contents",
   "title_sidebar": "Contents",
   "toc_cell": false,
   "toc_position": {},
   "toc_section_display": true,
   "toc_window_display": false
  }
 },
 "nbformat": 4,
 "nbformat_minor": 1
}
